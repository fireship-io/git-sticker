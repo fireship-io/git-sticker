{
 "cells": [
  {
   "cell_type": "code",
   "execution_count": 1,
   "id": "e72a8b17",
   "metadata": {},
   "outputs": [],
   "source": [
    "from hashlib import sha256"
   ]
  },
  {
   "cell_type": "code",
   "execution_count": 2,
   "id": "455f0163",
   "metadata": {},
   "outputs": [],
   "source": [
    "MAX_NONCE = 100000000000\n",
    "\n",
    "def SHA256(text):\n",
    "    return sha256(text.encode(\"ascii\")).hexdigest()"
   ]
  },
  {
   "cell_type": "code",
   "execution_count": 3,
   "id": "adbf5856",
   "metadata": {},
   "outputs": [],
   "source": [
    "def mine(block_number, transactions, previous_hash, prefix_zeros):\n",
    "    prefix_str = '0'*prefix_zeros\n",
    "    for nonce in range(MAX_NONCE):\n",
    "        text = str(block_number) + transactions + previous_hash + str(nonce)\n",
    "        new_hash = SHA256(text)\n",
    "        if new_hash.startswith(prefix_str):\n",
    "            print(f\"Yay! Successfully mined bitcoins with nonce value:{nonce}\")\n",
    "            return new_hash\n",
    "\n",
    "    raise BaseException(f\"Couldn't find correct has after trying {MAX_NONCE} times\")"
   ]
  },
  {
   "cell_type": "code",
   "execution_count": 4,
   "id": "a76a6947",
   "metadata": {},
   "outputs": [
    {
     "name": "stdout",
     "output_type": "stream",
     "text": [
      "start mining\n",
      "Yay! Successfully mined bitcoins with nonce value:138552\n",
      "end mining. Mining took: 0.370455265045166 seconds\n",
      "0000d7564c099c7bf0fbef693705983e9559c3a93a99bf08d418b838c2ca2769\n"
     ]
    }
   ],
   "source": [
    "if __name__=='__main__':\n",
    "    transactions='''\n",
    "    Kharwal->Aman->20,\n",
    "    Amazon->Google->45\n",
    "    '''\n",
    "    difficulty=4 # try changing this to higher number and you will see it will take more time for mining as difficulty increases\n",
    "    import time\n",
    "    start = time.time()\n",
    "    print(\"start mining\")\n",
    "    new_hash = mine(5,transactions,'0000000xa036944e29568d0cff17edbe038f81208fecf9a66be9a2b8321c6ec7', difficulty) #previous hash of already mined bitcoin\n",
    "    total_time = str((time.time() - start))\n",
    "    print(f\"end mining. Mining took: {total_time} seconds\")\n",
    "    print(new_hash)"
   ]
  },
  {
   "cell_type": "code",
   "execution_count": null,
   "id": "365e5aef",
   "metadata": {},
   "outputs": [],
   "source": []
  }
 ],
 "metadata": {
  "kernelspec": {
   "display_name": "Python 3 (ipykernel)",
   "language": "python",
   "name": "python3"
  },
  "language_info": {
   "codemirror_mode": {
    "name": "ipython",
    "version": 3
   },
   "file_extension": ".py",
   "mimetype": "text/x-python",
   "name": "python",
   "nbconvert_exporter": "python",
   "pygments_lexer": "ipython3",
   "version": "3.9.7"
  }
 },
 "nbformat": 4,
 "nbformat_minor": 5
}
